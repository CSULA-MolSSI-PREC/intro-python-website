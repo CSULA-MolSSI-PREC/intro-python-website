{
 "cells": [
  {
   "cell_type": "markdown",
   "metadata": {},
   "source": [
    "# Troubleshooting and \"Debugging\" Python Programs\n",
    "\n",
    "Troubleshooting, also called \"debugging\" in computer science,  is the process of finding and fixing errors in your code. \n",
    "It is an important skill for any programmer. In this worksheet, we will practice debugging by finding and fixing errors in some code.\n",
    "You will do this with pen and paper. \n",
    "After you have made predictions about the code, you can run it in Python to check your answers.\n",
    "\n",
    "## Reading Python Error Messages\n",
    "    \n",
    "When you run a Python program, you may see an error message.\n",
    "The error message will tell you what went wrong and where it went wrong.\n",
    "It will also give you a \"traceback\" which shows you the sequence of function calls that led to the error.\n",
    "In Python, when you get an error, you should start reading **at the bottom of the traceback**.\n",
    "The bottom of the traceback will tell you what went wrong.\n",
    "The message will also show the code where the error occurred, and show an arrow pointing to the exact location of the error.\n",
    "\n",
    "```{image} images/annotated_traceback.png\n",
    ":align: center\n",
    "```\n",
    "\n",
    "In the example above, the error message tells us that there is a `NameError`. A `NameError` occurs when you try to use a variable that has not been defined. In this case, the variable `energy_kcal` has not been defined. Yesterday in our code, we fixed this by adding `energy_kcal = []` before the `for` loop.\n",
    "\n",
    "Some common types of errors in Python are:\n",
    "\n",
    "* `NameError`: You tried to use a variable that has not been defined. Sometimes this might tell you that you have a typo in your variable name.\n",
    "* `SyntaxError`: You have a typo in your code. For example, you forgot a colon at the end of a line.\n",
    "* `IndentationError`: Your `for` loop or `if` statement is not indented correctly.\n",
    "* `TypeError`: You tried to use a variable of the wrong type. For example, you tried to use a string as a number.   \n",
    "* `ValueError`: You tried to use a variable with the correct type, but the wrong value. For example, you tried to use a number that is too large or too small.\n",
    "* `FileNotFoundError`: You tried to open a file that does not exist. Sometimes you might have just made a typo in the file name.\n",
    "\n",
    "## Debugging Practice\n",
    "\n",
    "Practice reading the error messages below. Below each error message, write down what you think the error is and how you would fix it.\n"
   ]
  },
  {
   "cell_type": "code",
   "execution_count": 5,
   "metadata": {},
   "outputs": [
    {
     "ename": "NameError",
     "evalue": "name 'cabon' is not defined",
     "output_type": "error",
     "traceback": [
      "\u001b[0;31m---------------------------------------------------------------------------\u001b[0m",
      "\u001b[0;31mNameError\u001b[0m                                 Traceback (most recent call last)",
      "Cell \u001b[0;32mIn[5], line 4\u001b[0m\n\u001b[1;32m      1\u001b[0m carbon \u001b[38;5;241m=\u001b[39m \u001b[38;5;241m12.011\u001b[39m\n\u001b[1;32m      2\u001b[0m hydrogen \u001b[38;5;241m=\u001b[39m \u001b[38;5;241m1\u001b[39m\n\u001b[0;32m----> 4\u001b[0m methane_weight \u001b[38;5;241m=\u001b[39m \u001b[43mcabon\u001b[49m \u001b[38;5;241m*\u001b[39m \u001b[38;5;241m1\u001b[39m \u001b[38;5;241m+\u001b[39m hydrogen \u001b[38;5;241m*\u001b[39m \u001b[38;5;241m4\u001b[39m\n\u001b[1;32m      5\u001b[0m \u001b[38;5;28mprint\u001b[39m(methane_weight)\n",
      "\u001b[0;31mNameError\u001b[0m: name 'cabon' is not defined"
     ]
    }
   ],
   "source": [
    "carbon = 12.011\n",
    "hydrogen = 1\n",
    "\n",
    "methane_weight = cabon * 1 + hydrogen * 4\n",
    "print(methane_weight)\n",
    "\n"
   ]
  },
  {
   "cell_type": "markdown",
   "metadata": {},
   "source": [
    "Use this box to identify the error that occurred above. How would you fix it?\n",
    "\n",
    "<br><br><br><br><br><br><br><br><br>"
   ]
  },
  {
   "cell_type": "code",
   "execution_count": 2,
   "metadata": {},
   "outputs": [
    {
     "ename": "TypeError",
     "evalue": "unsupported operand type(s) for +: 'int' and 'str'",
     "output_type": "error",
     "traceback": [
      "\u001b[0;31m---------------------------------------------------------------------------\u001b[0m",
      "\u001b[0;31mTypeError\u001b[0m                                 Traceback (most recent call last)",
      "Cell \u001b[0;32mIn[2], line 3\u001b[0m\n\u001b[1;32m      1\u001b[0m x \u001b[38;5;241m=\u001b[39m \u001b[38;5;241m5\u001b[39m\n\u001b[1;32m      2\u001b[0m y \u001b[38;5;241m=\u001b[39m \u001b[38;5;124m\"\u001b[39m\u001b[38;5;124m2\u001b[39m\u001b[38;5;124m\"\u001b[39m\n\u001b[0;32m----> 3\u001b[0m z \u001b[38;5;241m=\u001b[39m \u001b[43mx\u001b[49m\u001b[43m \u001b[49m\u001b[38;5;241;43m+\u001b[39;49m\u001b[43m \u001b[49m\u001b[43my\u001b[49m\n\u001b[1;32m      4\u001b[0m \u001b[38;5;28mprint\u001b[39m(z)\n",
      "\u001b[0;31mTypeError\u001b[0m: unsupported operand type(s) for +: 'int' and 'str'"
     ]
    }
   ],
   "source": [
    "x = 5\n",
    "y = \"2\"\n",
    "z = x + y\n",
    "print(z)\n"
   ]
  },
  {
   "cell_type": "markdown",
   "metadata": {},
   "source": [
    "Use this box to identify the error that occurred above. How would you fix it?\n",
    "\n",
    "<br><br><br><br><br><br><br><br><br>"
   ]
  },
  {
   "cell_type": "code",
   "execution_count": 3,
   "metadata": {},
   "outputs": [
    {
     "ename": "IndentationError",
     "evalue": "unexpected indent (3083514613.py, line 9)",
     "output_type": "error",
     "traceback": [
      "\u001b[0;36m  Cell \u001b[0;32mIn[3], line 9\u001b[0;36m\u001b[0m\n\u001b[0;31m    times_10_list = times_10_list.append(times_10)\u001b[0m\n\u001b[0m    ^\u001b[0m\n\u001b[0;31mIndentationError\u001b[0m\u001b[0;31m:\u001b[0m unexpected indent\n"
     ]
    }
   ],
   "source": [
    "# Here is an example of code with an indentation error in a for loop\n",
    "\n",
    "numbers = [1, 2, 3, 4, 5]\n",
    "times_10_list = []\n",
    "\n",
    "for num in numbers:\n",
    "    times_10 = num * 10\n",
    "print(times_10)  # This line has an indentation error\n",
    "    times_10_list = times_10_list.append(times_10)\n",
    "\n",
    "\n"
   ]
  },
  {
   "cell_type": "markdown",
   "metadata": {},
   "source": [
    "Use this box to identify the error that occurred above. How would you fix it?\n",
    "\n",
    "<br><br><br><br><br><br><br><br><br>"
   ]
  },
  {
   "cell_type": "markdown",
   "metadata": {},
   "source": []
  }
 ],
 "metadata": {
  "kernelspec": {
   "display_name": "molssi_best_practices",
   "language": "python",
   "name": "python3"
  },
  "language_info": {
   "codemirror_mode": {
    "name": "ipython",
    "version": 3
   },
   "file_extension": ".py",
   "mimetype": "text/x-python",
   "name": "python",
   "nbconvert_exporter": "python",
   "pygments_lexer": "ipython3",
   "version": "3.11.6"
  }
 },
 "nbformat": 4,
 "nbformat_minor": 2
}

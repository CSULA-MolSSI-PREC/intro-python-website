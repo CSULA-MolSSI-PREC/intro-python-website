{
 "cells": [
  {
   "cell_type": "markdown",
   "metadata": {},
   "source": [
    "# Designing Programs\n",
    "\n",
    "In this worksheet, you will learn and practice how to design programs. You will learn how to use the design recipe to design code, and how to break down a problem into smaller subproblems.\n",
    "\n",
    "## The Design Recipe\n",
    "\n",
    "The design recipe is a systematic way of designing programs. It consists of the following steps:\n",
    "\n",
    "1. **Problem analysis**: Understand the problem and its requirements.\n",
    "2. **Data analysis**: Understand the data that the program will work with. You will decide what data you are working with and the types of that data.\n",
    "3. **Examples**: Find examples of the program's input and output.\n",
    "4. **Program design**: Design the program. You will decide what functions you need, what the functions do, and how they work together. You might write down a series of steps for the program.\n",
    "5. **Implementation**: Implement the program in code. You have to translate everything you have decided in the previous steps into code that the computer understands.\n",
    "6. **Testing**: Test the program to make sure it works correctly. You will run the program with the examples you found in step 3 and make sure the program produces the correct output.\n",
    "\n",
    "## Example: Reading the Final Energy from ethanol.out\n",
    "\n",
    "Yesterday, we wrote code to get the Final Energy from ethanol.out. Let's see how we can use the design recipe to understand this problem better.\n",
    "\n",
    "### 1. Problem Analysis\n",
    "Looking at our task from yesterday, we wanted to find a specific number in the ethanol.out file. When we open this file, we see it contains many lines of text. Somewhere in this file is a line that has \"Final Energy\" followed by the number we want. Instead of searching through the file ourselves, we want Python to find this number for us.\n",
    "\n",
    "### 2. Data Analysis\n",
    "Before we write code, let's think about what we're working with:\n",
    "- We have a file called \"ethanol.out\" in the data/outfiles directory\n",
    "- The file contains lines of text\n",
    "- One of these lines has \"Final Energy\" followed by a number\n",
    "- We want to end up with just that number, so we can use it for calculations\n",
    "\n",
    "### 3. Examples\n",
    "Let's be very specific about what we're looking for. In our file, we might see a line like this:\n",
    "```\n",
    "Final Energy: -123.45\n",
    "```\n",
    "We want our program to find this line and give us just the -123.45 part.\n",
    "\n",
    "### 4. Program Design\n",
    "If we were doing this by hand, we would:\n",
    "1. Open the file and read all the lines\n",
    "2. Look through each line until we see \"Final Energy\"\n",
    "3. Once we find that line, get just the number part\n",
    "\n",
    "Now we need to turn each of these steps into Python code.\n",
    "\n",
    "### 5. Implementation\n",
    "Let's translate each of our design steps into Python code. This is where we figure out exactly how to tell Python what we want it to do.\n",
    "\n",
    "Step 1: Open and read the file\n",
    "```python\n",
    "filepath = \"data/outfiles/ethanol.out\"  # Tell Python where to find our file\n",
    "with open(filepath,'r') as f:           # Open it for reading\n",
    "    data = f.readlines()                # Get all the lines from the file\n",
    "```\n",
    "This puts all the lines from our file into `data`. Think of `data` like a list of all the lines from our file.\n",
    "\n",
    "Step 2: Find the line containing \"Final Energy\"\n",
    "```python\n",
    "for line in data:                    # Look at each line one at a time\n",
    "    if 'Final Energy' in line:       # If this line has \"Final Energy\" in it\n",
    "        energy_line = line           # Save this line - it's the one we want!\n",
    "```\n",
    "Now `energy_line` contains the whole line with our number in it, like \"Final Energy: -123.45\"\n",
    "\n",
    "Step 3: Get just the number\n",
    "```python\n",
    "words = energy_line.split()          # Break the line into pieces at each space\n",
    "                                    # words now looks like: [\"Final\", \"Energy:\", \"-123.45\"]\n",
    "energy = float(words[3])            # Convert the fourth piece to a number\n",
    "print(energy)                       # Show us the answer\n",
    "```\n",
    "\n",
    "Let's put it all together:\n",
    "```python\n",
    "# Step 1: Read the file\n",
    "filepath = \"data/outfiles/ethanol.out\"\n",
    "with open(filepath,'r') as f:\n",
    "    data = f.readlines()\n",
    "\n",
    "# Step 2: Find the line that has \"Final Energy\"\n",
    "for line in data:\n",
    "    if 'Final Energy' in line:\n",
    "        energy_line = line\n",
    "\n",
    "# Step 3: Get the number from that line\n",
    "words = energy_line.split()\n",
    "energy = float(words[3])\n",
    "print(energy)\n",
    "```\n",
    "\n",
    "### 6. Testing\n",
    "When we run this program, it should print out -123.45. We can check if this is right by:\n",
    "1. Opening ethanol.out ourselves\n",
    "2. Finding the \"Final Energy\" line\n",
    "3. Making sure the number we see matches what our program printed\n",
    "\n",
    "Overall, our code yesterday looked like this:"
   ]
  },
  {
   "cell_type": "code",
   "execution_count": 1,
   "metadata": {},
   "outputs": [
    {
     "name": "stdout",
     "output_type": "stream",
     "text": [
      "-154.09130176573018\n"
     ]
    }
   ],
   "source": [
    "# Read the file\n",
    "filepath = \"data/outfiles/ethanol.out\"\n",
    "with open(filepath,'r') as f:\n",
    "    data = f.readlines()\n",
    "\n",
    "# Find the line that has the phrase \"Final Energy\"\n",
    "for line in data:\n",
    "    if 'Final Energy' in line:\n",
    "        energy_line = line\n",
    "\n",
    "# Split the line into words\n",
    "words = energy_line.split()\n",
    "energy = float(words[3])\n",
    "print(energy)"
   ]
  },
  {
   "cell_type": "markdown",
   "metadata": {},
   "source": [
    "## Your Turn!\n",
    "\n",
    "Now that you've learned about the design recipe. Try applying it to the following problems.\n",
    "\n",
    "For each problem, try applying the Design Recipe first. After you have made a plan, then try writing code.\n",
    "\n",
    "1. Write Python code that calculates the area of a rectangle. (Don't forget to think of and check your answer with examples!)\n",
    "2. Calculate an average grade given a list of grades.\n",
    "3. Calculate the average of total energy for an `mdout` file (like 03_Prod.mdout). (Note, this one will be hard to predict, but you can check that pieces of your code work. For example, you might use similar logic to calculating the average grade.)\n",
    "4. Getting the Final Energy for several files and saving the results in a list."
   ]
  },
  {
   "cell_type": "markdown",
   "metadata": {},
   "source": []
  },
  {
   "cell_type": "code",
   "execution_count": null,
   "metadata": {},
   "outputs": [],
   "source": []
  },
  {
   "cell_type": "code",
   "execution_count": null,
   "metadata": {},
   "outputs": [],
   "source": []
  },
  {
   "cell_type": "code",
   "execution_count": null,
   "metadata": {},
   "outputs": [],
   "source": []
  }
 ],
 "metadata": {
  "kernelspec": {
   "display_name": "molssi_best_practices",
   "language": "python",
   "name": "python3"
  },
  "language_info": {
   "codemirror_mode": {
    "name": "ipython",
    "version": 3
   },
   "file_extension": ".py",
   "mimetype": "text/x-python",
   "name": "python",
   "nbconvert_exporter": "python",
   "pygments_lexer": "ipython3",
   "version": "3.11.6"
  }
 },
 "nbformat": 4,
 "nbformat_minor": 2
}

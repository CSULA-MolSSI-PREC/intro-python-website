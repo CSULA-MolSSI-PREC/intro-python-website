{
 "cells": [
  {
   "attachments": {},
   "cell_type": "markdown",
   "id": "collective-theorem",
   "metadata": {},
   "source": [
    "Set Up\n",
    "=====\n",
    "\n",
    "For this workshop, you will use a website called ChemCompute. ChemCompute is only accessible to users with an academic email address. \n",
    "\n",
    "## Using a cloud computing environment\n",
    "\n",
    "You can access a cloud computing environment with computational chemistry software installed by using [ChemCompute](https://asu.chemcompute.org/).\n",
    "\n",
    "1. [Register](https://asu.chemcompute.org/register/) for a ChemCompute account. The easiest thing to do is to choose \"Sign in with your University Login\" on the right. You can login using your university email. You will need to confirm account registration from an email chemcompute will send you.\n",
    "2. You will receive an email to confirm your account. Click the link in the email. After confirming your account, you will be able to access a Jupyter notebook. \n",
    "\n",
    "3. On ChemCompute click \"Jupyter\", then \"Use Psi4 or JupyterHub\". Make sure you have the selections in the image below, then click the orange \"Start\" button.\n",
    "\n",
    "![ChemCompute](./images/chemcompute_options.png)\n",
    "\n",
    "\n",
    "3. The first time you start this workshop, you will need to get access to the files used in this workshop. Using the menu at the top, select \"Jupyter\" then \"Clone a github repo to your notebook\". There will be a form on the page. Enter `https://github.com/CSULA-MolSSI-PREC/intro-python` into the URL field and click \"Pull Repo\"\n",
    "\n",
    "4. A Jupyter notebook environment with the files you need will start for you.\n",
    "\n",
    "You only have to complete these steps once. Every other time you access ChemCompute, you will click \"Jupyter\" then \"Use Psi4 or JupyterHub\". Your files for this workshop will be in a folder called `intro-python`.\n",
    "\n",
    "\n"
   ]
  }
 ],
 "metadata": {
  "kernelspec": {
   "display_name": "Python 3",
   "language": "python",
   "name": "python3"
  },
  "language_info": {
   "codemirror_mode": {
    "name": "ipython",
    "version": 3
   },
   "file_extension": ".py",
   "mimetype": "text/x-python",
   "name": "python",
   "nbconvert_exporter": "python",
   "pygments_lexer": "ipython3",
   "version": "3.8.6"
  }
 },
 "nbformat": 4,
 "nbformat_minor": 5
}

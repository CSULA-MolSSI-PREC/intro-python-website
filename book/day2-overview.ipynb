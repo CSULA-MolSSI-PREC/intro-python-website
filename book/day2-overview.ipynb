{
 "cells": [
  {
   "attachments": {},
   "cell_type": "markdown",
   "metadata": {},
   "source": [
    "# Day 2 - Data Analysis and Plotting\n",
    "\n",
    "``````{admonition} Day 2 Overview\n",
    ":class: day-overview\n",
    "\n",
    "In this session, we'll learn using Python to analyze tabular data and create plots.\n",
    "Finally, we'll learn how to write our own functions in Python.\n",
    "\n",
    "At the end of this session, you should be able to answer the following questions:\n",
    "\n",
    "```{admonition} Analyzing Tabular Data\n",
    ":class: overview\n",
    "\n",
    "* How can I work with data that is in rows and columns?\n",
    "\n",
    "* What is a pandas dataframe?\n",
    "```\n",
    "```{admonition} Creating plots\n",
    ":class: overview\n",
    "\n",
    "* How do I visualize data by making graphs?\n",
    "```\n",
    "\n",
    "``````"
   ]
  },
  {
   "cell_type": "markdown",
   "metadata": {},
   "source": []
  }
 ],
 "metadata": {
  "kernelspec": {
   "display_name": "Python 3",
   "language": "python",
   "name": "python3"
  },
  "language_info": {
   "name": "python",
   "version": "3.8.10"
  },
  "orig_nbformat": 4,
  "vscode": {
   "interpreter": {
    "hash": "916dbcbb3f70747c44a77c7bcd40155683ae19c65e1c03b4aa3499c5328201f1"
   }
  }
 },
 "nbformat": 4,
 "nbformat_minor": 2
}

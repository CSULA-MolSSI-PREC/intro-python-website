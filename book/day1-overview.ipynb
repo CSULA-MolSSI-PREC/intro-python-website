{
 "cells": [
  {
   "attachments": {},
   "cell_type": "markdown",
   "metadata": {},
   "source": [
    "# Day 1 - Introduction to Python\n",
    "\n",
    "``````{admonition} Day 1 Overview\n",
    ":class: day-overview\n",
    "\n",
    "In this session, we'll learn about the Python programming language. \n",
    "We'll see how we can use an interface in our web browser called the **Jupyter Notebook** to write and run Python code.\n",
    "We'll also see how we can use Python to look for information in many text files at once.\n",
    "\n",
    "At the end of this session, you should be able to answer the following questions:\n",
    "\n",
    "```{admonition} Introduction to Python\n",
    ":class: overview\n",
    "\n",
    "* What is the Python programming language, and what is it used for?\n",
    "\n",
    "* What is the syntax of the Python programming language?\n",
    "```\n",
    "```{admonition} File Parsing\n",
    ":class: overview\n",
    "* How can I use Python to read text files?\n",
    "\n",
    "* How do I sort through all the information in a text file and extract particular pieces of information?\n",
    "```\n",
    "\n",
    "```{admonition} Debugging and Troubleshooting\n",
    ":class: overview\n",
    "\n",
    "* How do I read a Python error message?\n",
    "\n",
    "* How do I fix a Python error message?\n",
    "```\n",
    "```\n",
    "\n",
    "\n",
    "``````"
   ]
  },
  {
   "cell_type": "markdown",
   "metadata": {},
   "source": []
  }
 ],
 "metadata": {
  "kernelspec": {
   "display_name": "molssi-training",
   "language": "python",
   "name": "python3"
  },
  "language_info": {
   "name": "python",
   "version": "3.11.0 | packaged by conda-forge | (main, Oct 25 2022, 06:24:40) [GCC 10.4.0]"
  },
  "orig_nbformat": 4,
  "vscode": {
   "interpreter": {
    "hash": "16d4a7bb199d969b1271ebe46f77414b0d9cd01b3c3983c2b2742fc6cd4503d3"
   }
  }
 },
 "nbformat": 4,
 "nbformat_minor": 2
}
